{
 "cells": [
  {
   "cell_type": "code",
   "execution_count": 62,
   "metadata": {},
   "outputs": [
    {
     "name": "stdout",
     "output_type": "stream",
     "text": [
      "Which cup size do you want ? (small, medium, or large)small\n",
      "Which coffee type do you want ? (brewed, espresso, or cold brew)brewed\n",
      "Do you want a flavored syrup ? (Yes or No)yes\n",
      "Which flavor do you want ? (hazelnut, vanilla, or caramel)vanilla\n"
     ]
    }
   ],
   "source": [
    "#SAMAR HANNACHI // 09/06/2022\n",
    "size = ['small','medium','large']\n",
    "typo = ['brewed','espresso','cold brew']\n",
    "flavors = ['hazelnut', 'vanilla', 'caramel']\n",
    "choice = ['yes', 'no']\n",
    "while True:\n",
    "     size_coffee = input(\"Which cup size do you want ? (small, medium, or large)\" )\n",
    "     if size_coffee.lower() in size:\n",
    "         break\n",
    "     print(\"Please choose from the options provided !\")\n",
    "\n",
    "while True:\n",
    "     type_coffee = input(\"Which coffee type do you want ? (brewed, espresso, or cold brew)\" )\n",
    "     if type_coffee.lower() in typo:\n",
    "         break\n",
    "     print(\"Please choose from the options provided !\")\n",
    "\n",
    "while True:\n",
    "     flavor = input(\"Do you want a flavored syrup ? (Yes or No)\")\n",
    "     if flavor.lower() in choice:\n",
    "         break\n",
    "     print(\"Please choose from the options provided !\")\n",
    "\n",
    "while True:\n",
    "    if (flavor.lower()==\"yes\"):\n",
    "         flavor_coffee = input(\"Which flavor do you want ? (hazelnut, vanilla, or caramel)\")\n",
    "         if flavor_coffee.lower() in flavors:\n",
    "             break\n",
    "         print(\"Please choose from the options provided !\")"
   ]
  },
  {
   "cell_type": "code",
   "execution_count": 63,
   "metadata": {},
   "outputs": [],
   "source": [
    "cost = 0.0\n",
    "if (size_coffee == \"small\"):\n",
    "    cost += 2.0\n",
    "elif (size_coffee == \"medium\"):\n",
    "    cost += 3.0\n",
    "else:\n",
    "    cost += 4.0\n",
    "if(type_coffee == \"espresso\"):\n",
    "    cost += 0.5\n",
    "elif (type_coffee == \"cold brew\"):\n",
    "    cost += 1.0\n",
    "else:\n",
    "    cost = cost\n",
    "    \n",
    "if(flavor_coffee in flavors):\n",
    "    cost += 0.5\n",
    "\n",
    "tipped_cost = cost + 0.15 * cost"
   ]
  },
  {
   "cell_type": "code",
   "execution_count": 65,
   "metadata": {},
   "outputs": [
    {
     "name": "stdout",
     "output_type": "stream",
     "text": [
      "You asked for a small cup of brewed coffee with vanilla syrup \n",
      "Your cup of coffee costs 2.5\n",
      "The price with a tip is 2.88\n"
     ]
    }
   ],
   "source": [
    "print(\"You asked for a \" + size_coffee + \" cup of \" + type_coffee + \" coffee with \" + flavor_coffee + \" syrup \")\n",
    "print(f\"Your cup of coffee costs {cost}\")\n",
    "print(f\"The price with a tip is {round(tipped_cost,2)}\")"
   ]
  },
  {
   "cell_type": "code",
   "execution_count": null,
   "metadata": {},
   "outputs": [],
   "source": []
  }
 ],
 "metadata": {
  "kernelspec": {
   "display_name": "Python 3",
   "language": "python",
   "name": "python3"
  },
  "language_info": {
   "codemirror_mode": {
    "name": "ipython",
    "version": 3
   },
   "file_extension": ".py",
   "mimetype": "text/x-python",
   "name": "python",
   "nbconvert_exporter": "python",
   "pygments_lexer": "ipython3",
   "version": "3.6.7"
  }
 },
 "nbformat": 4,
 "nbformat_minor": 2
}
